{
 "cells": [
  {
   "cell_type": "code",
   "execution_count": 29,
   "metadata": {},
   "outputs": [],
   "source": [
    "months_days = [[\"January\", \"February\", \"March\", \"April\", \"May\",\n",
    "     \"June\", \"July\", \"August\", \"September\", \"October\", \"November\", \"December\"],\n",
    "    [31, 28, 31, 30, 31, 30, 31, 31, 30, 31, 30, 31]]"
   ]
  },
  {
   "cell_type": "code",
   "execution_count": 30,
   "metadata": {},
   "outputs": [],
   "source": [
    "def future_date(day, month, year, x):\n",
    "    future_day = day\n",
    "    future_month = month\n",
    "    future_year = year\n",
    "\n",
    "    if year%4==0:\n",
    "        months_days[1][1] = 29\n",
    "\n",
    "    for i in range(x):\n",
    "        future_day += 1\n",
    "        if future_day > months_days[1][future_month-1]:\n",
    "            future_day = 1\n",
    "            future_month += 1\n",
    "            if future_month > 12:\n",
    "                future_month = 1\n",
    "                future_year += 1\n",
    "                if year%4==0:\n",
    "                    months_days[1][1] = 29\n",
    "                else:\n",
    "                    months_days[1][1] = 28\n",
    "    return future_day, months_days[0][future_month-1], future_year\n"
   ]
  },
  {
   "cell_type": "code",
   "execution_count": 31,
   "metadata": {},
   "outputs": [
    {
     "name": "stdout",
     "output_type": "stream",
     "text": [
      "1 March 2024\n"
     ]
    }
   ],
   "source": [
    "day = 26\n",
    "month = 2\n",
    "year = 2024\n",
    "x = 4\n",
    "\n",
    "future_day, future_month, future_year = future_date(day, month, year, x)\n",
    "print(future_day, future_month, future_year)\n"
   ]
  }
 ],
 "metadata": {
  "kernelspec": {
   "display_name": "Python 3",
   "language": "python",
   "name": "python3"
  },
  "language_info": {
   "codemirror_mode": {
    "name": "ipython",
    "version": 3
   },
   "file_extension": ".py",
   "mimetype": "text/x-python",
   "name": "python",
   "nbconvert_exporter": "python",
   "pygments_lexer": "ipython3",
   "version": "3.9.13"
  },
  "orig_nbformat": 4,
  "vscode": {
   "interpreter": {
    "hash": "691cc687ea5ca88708e20e9e8f170e8ce2e9762098f5511ffd8ecc1e8bc9f63b"
   }
  }
 },
 "nbformat": 4,
 "nbformat_minor": 2
}
