{
 "cells": [
  {
   "cell_type": "code",
   "execution_count": 123,
   "metadata": {},
   "outputs": [],
   "source": [
    "import random"
   ]
  },
  {
   "cell_type": "code",
   "execution_count": 124,
   "metadata": {},
   "outputs": [],
   "source": [
    "months_days = [[\"January\", \"February\", \"March\", \"April\", \"May\",\n",
    "     \"June\", \"July\", \"August\", \"September\", \"October\", \"November\", \"December\"],\n",
    "    [31, 28, 31, 30, 31, 30, 31, 31, 30, 31, 30, 31]]\n",
    "diary = {}\n",
    "\n",
    "activity = ['Went to the park', 'Had a good day', 'Worked on a project', 'Went to a movie', 'Went to a party',\n",
    "'Met friends', 'Worked from home', 'Went to the gym', 'Cooked dinner', 'Went to a concert', 'Went on a hike', \n",
    "'Had a picnic', 'Went shopping', 'Read a book', 'Went for a swim', 'Went to a museum',  'Went to a play']\n",
    "feelings = ['happy', 'sad', 'tired', 'content', 'excited', 'relaxed', 'stressed', 'bored', 'nostalgic', \n",
    "'energetic', 'calm', 'anxious', 'creative', 'inspired']\n",
    "adjectives = [\"very\", \"slightly\", \"a bit\", \"extremely\", \"mildly\", \"moderately\"]\n",
    "\n",
    "\n"
   ]
  },
  {
   "cell_type": "code",
   "execution_count": 125,
   "metadata": {},
   "outputs": [],
   "source": [
    "def future_date(day, month, year, x):\n",
    "    future_day = day\n",
    "    future_month = month\n",
    "    future_year = year\n",
    "    if year%4==0:\n",
    "        months_days[1][1] = 29\n",
    "    for i in range(x):\n",
    "        future_day += 1\n",
    "        if future_day > months_days[1][future_month-1]:\n",
    "            future_day = 1\n",
    "            future_month += 1\n",
    "            if future_month > 12:\n",
    "                future_month = 1\n",
    "                future_year += 1\n",
    "                if year%4==0:\n",
    "                    months_days[1][1] = 29\n",
    "                else:\n",
    "                    months_days[1][1] = 28\n",
    "    return future_day, future_month, future_year"
   ]
  },
  {
   "cell_type": "code",
   "execution_count": 126,
   "metadata": {},
   "outputs": [],
   "source": [
    "\n",
    "day, month, year = 26, 1, 2023\n",
    "\n",
    "if year%4==0:\n",
    "    months_days[1][1] = 29\n",
    "\n",
    "diary[f\"{day} {months_days[0][month-1]} {year}\"] = \"Went to the park\"\n",
    "\n",
    "for i in range(1,8):\n",
    "    day, month, year = future_date(day, month, year, 1)\n",
    "    if year%4==0:\n",
    "        months_days[1][1] = 29\n",
    "    else:\n",
    "        months_days[1][1] = 28\n",
    "    diary[f\"{day} {months_days[0][month-1]} {year}\"] = f\"{random.choice(activity)} and felt {random.choice(adjectives)} {random.choice(feelings)}\"\n"
   ]
  },
  {
   "cell_type": "code",
   "execution_count": 127,
   "metadata": {},
   "outputs": [
    {
     "name": "stdout",
     "output_type": "stream",
     "text": [
      "Went to a concert and felt moderately happy\n"
     ]
    }
   ],
   "source": [
    "date = \"27 January 2023\"\n",
    "print(diary[date])\n"
   ]
  },
  {
   "cell_type": "code",
   "execution_count": null,
   "metadata": {},
   "outputs": [],
   "source": []
  }
 ],
 "metadata": {
  "kernelspec": {
   "display_name": "Python 3",
   "language": "python",
   "name": "python3"
  },
  "language_info": {
   "codemirror_mode": {
    "name": "ipython",
    "version": 3
   },
   "file_extension": ".py",
   "mimetype": "text/x-python",
   "name": "python",
   "nbconvert_exporter": "python",
   "pygments_lexer": "ipython3",
   "version": "3.9.13"
  },
  "orig_nbformat": 4,
  "vscode": {
   "interpreter": {
    "hash": "691cc687ea5ca88708e20e9e8f170e8ce2e9762098f5511ffd8ecc1e8bc9f63b"
   }
  }
 },
 "nbformat": 4,
 "nbformat_minor": 2
}
