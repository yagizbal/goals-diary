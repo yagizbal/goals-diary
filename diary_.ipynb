{
 "cells": [
  {
   "cell_type": "code",
   "execution_count": 64,
   "metadata": {},
   "outputs": [],
   "source": [
    "import random\n",
    "from datetime import *\n",
    "\n"
   ]
  },
  {
   "cell_type": "code",
   "execution_count": 65,
   "metadata": {},
   "outputs": [],
   "source": [
    "import tkinter as tk\n",
    "#put every month in columns of seven days\n",
    "#add a button to return to today\n"
   ]
  },
  {
   "cell_type": "code",
   "execution_count": 66,
   "metadata": {},
   "outputs": [],
   "source": [
    "list_of_months = [\"January\", \"February\", \"March\", \"April\", \"May\", \"June\", \"July\", \"August\", \"September\", \"October\", \"November\", \"December\"]"
   ]
  },
  {
   "cell_type": "code",
   "execution_count": 67,
   "metadata": {},
   "outputs": [
    {
     "name": "stdout",
     "output_type": "stream",
     "text": [
      "2023-01-31\n"
     ]
    }
   ],
   "source": [
    "todayy = date.today()\n",
    "year, month, day = str(todayy).split('-')\n",
    "print(todayy)\n",
    "#print(day,month,year)\n",
    "\n",
    "weekday = todayy.weekday()\n",
    "#print(days_of_week[weekday])"
   ]
  },
  {
   "cell_type": "code",
   "execution_count": 68,
   "metadata": {},
   "outputs": [
    {
     "name": "stdout",
     "output_type": "stream",
     "text": [
      "2024-04-25\n"
     ]
    }
   ],
   "source": [
    "td = timedelta(days=450)\n",
    "final_date=todayy+td\n",
    "print(final_date)\n"
   ]
  },
  {
   "cell_type": "code",
   "execution_count": 69,
   "metadata": {},
   "outputs": [],
   "source": [
    "def create_diary_of_length(days,beginning_day):\n",
    "    diary = []\n",
    "    for i in range(days):\n",
    "        diary.append([])\n",
    "        #diary.append(create_entry())\n",
    "    return diary, beginning_day"
   ]
  },
  {
   "cell_type": "code",
   "execution_count": 70,
   "metadata": {},
   "outputs": [],
   "source": [
    "def create_entry(day_precise,entry,diary,beginning_day):\n",
    "    if type(day_precise)==str:\n",
    "        day,month,year = day_precise.split(' ')\n",
    "        month = list_of_months.index(month)+1\n",
    "        target_date_dt = date(int(year), int(month), int(day))\n",
    "        \n",
    "        delta = target_date_dt - beginning_day\n",
    "        day_precise=(delta.days)\n",
    "    diary[day_precise].append(entry)\n",
    "\n",
    "    return diary\n"
   ]
  },
  {
   "cell_type": "code",
   "execution_count": 72,
   "metadata": {},
   "outputs": [
    {
     "name": "stdout",
     "output_type": "stream",
     "text": [
      "bg 2023-01-31\n",
      "[['hello'], ['Goodnight'], [], [], [], [], [], [], [], []]\n"
     ]
    }
   ],
   "source": [
    "diary,beginning_day = create_diary_of_length(days=10,beginning_day=todayy)\n",
    "print(\"bg\",beginning_day)\n",
    "\n",
    "create_entry(day_precise=0,entry=\"hello\",diary=diary,beginning_day=beginning_day)\n",
    "create_entry(day_precise=(\"1 February 2023\"),entry=\"Goodnight\",diary=diary,beginning_day=beginning_day)\n",
    "\n",
    "print(diary)\n"
   ]
  },
  {
   "cell_type": "code",
   "execution_count": null,
   "metadata": {},
   "outputs": [],
   "source": []
  }
 ],
 "metadata": {
  "kernelspec": {
   "display_name": "Python 3",
   "language": "python",
   "name": "python3"
  },
  "language_info": {
   "codemirror_mode": {
    "name": "ipython",
    "version": 3
   },
   "file_extension": ".py",
   "mimetype": "text/x-python",
   "name": "python",
   "nbconvert_exporter": "python",
   "pygments_lexer": "ipython3",
   "version": "3.9.13"
  },
  "orig_nbformat": 4,
  "vscode": {
   "interpreter": {
    "hash": "691cc687ea5ca88708e20e9e8f170e8ce2e9762098f5511ffd8ecc1e8bc9f63b"
   }
  }
 },
 "nbformat": 4,
 "nbformat_minor": 2
}
